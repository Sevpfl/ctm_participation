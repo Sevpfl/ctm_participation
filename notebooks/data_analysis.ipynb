{
 "cells": [
  {
   "attachments": {},
   "cell_type": "markdown",
   "metadata": {},
   "source": [
    "# Exploration of the data scraped from the meetup past event page\n",
    "\n",
    "This is a notebook to explore the data scraped from the continuous testing meetup past event page. \n",
    "For now it only compares the number of attendees and shows the temperature of the day of the event.\n",
    "The theory is that the temperature of the day of the event will affect the number of attendees.\n",
    "\n",
    "I have limited the events from 2019 to now, because the data before is not representative of the current meetup."
   ]
  },
  {
   "attachments": {},
   "cell_type": "markdown",
   "metadata": {},
   "source": [
    "\n",
    "### Helper functions:"
   ]
  },
  {
   "cell_type": "code",
   "execution_count": 5,
   "metadata": {},
   "outputs": [],
   "source": [
    "# Define helper functions here\n",
    "import os\n",
    "import time\n",
    "import json\n",
    "import requests\n",
    "import pandas as pd\n",
    "import plotly.offline as pyo\n",
    "import plotly.graph_objects as go\n",
    "from datetime import datetime, timedelta\n",
    "\n",
    "# Constants\n",
    "DATA_PATH = '../data/'\n",
    "PLOTS_PATH = '../plots/'\n",
    "DELAY = 1  # Delay in seconds to respect rate limits\n",
    "WEATHER_DATA_FILE = os.path.join(DATA_PATH, 'weather_data.json')\n",
    "\n",
    "def load_json_from_file(file_path):\n",
    "    \"\"\"\n",
    "    Load JSON data from a file.\n",
    "    If the file doesn't exist, create an empty JSON file and return an empty list.\n",
    "    \"\"\"\n",
    "    try:\n",
    "        with open(file_path, 'r') as f:\n",
    "            data = json.load(f)\n",
    "    except FileNotFoundError:\n",
    "        with open(file_path, 'w') as f:\n",
    "            json.dump([], f, indent=4)\n",
    "        data = []\n",
    "    return data\n",
    "\n",
    "def save_json_to_file(data, file_path):\n",
    "    \"\"\"Save JSON data to a file.\"\"\"\n",
    "    with open(file_path, 'w') as f:\n",
    "        json.dump(data, f, indent=4)\n",
    "\n",
    "def fetch_weather_data(event_id, date, is_forecast):\n",
    "    \"\"\"\n",
    "    Fetch weather data from open-meteo API.\n",
    "    The 'is_forecast' parameter indicates whether to fetch from the forecast or archive endpoint.\n",
    "    \"\"\"\n",
    "    # Respect the rate limit\n",
    "    time.sleep(DELAY)\n",
    "\n",
    "    # API endpoint\n",
    "    url = f\"https://{'api.open-meteo.com/v1/forecast' if is_forecast else 'archive-api.open-meteo.com/v1/archive'}\"\n",
    "\n",
    "    # API parameters\n",
    "    params = {\n",
    "        'latitude': 52.52,\n",
    "        'longitude': 13.41,\n",
    "        'start_date': date,\n",
    "        'end_date': date,\n",
    "        'daily': 'temperature_2m_max',\n",
    "        'timezone': 'Europe/Berlin'\n",
    "    }\n",
    "\n",
    "    # API request\n",
    "    response = requests.get(url, params=params)\n",
    "    data = response.json()\n",
    "\n",
    "    # If there's an error in the response, return None\n",
    "    if 'error' in data:\n",
    "        print(f'No data available for {date}')\n",
    "        return None\n",
    "\n",
    "    # Construct weather data for the event\n",
    "    weather_data = {'id': event_id}\n",
    "\n",
    "    # If temperature data is available, add it to the weather data\n",
    "    if 'daily' in data and 'temperature_2m_max' in data['daily'] and data['daily']['temperature_2m_max'][0] is not None:\n",
    "        weather_data['max_temp'] = round(data['daily']['temperature_2m_max'][0], 2)\n",
    "    \n",
    "    return weather_data\n",
    "\n",
    "def collect_weather_data(event_df, existing_weather_data, max_requests=None):\n",
    "    \"\"\"\n",
    "    Collect weather data for the events in the event DataFrame.\n",
    "    If 'max_requests' is provided, limit the number of API requests to that number.\n",
    "    \"\"\"\n",
    "    # Initialize request count\n",
    "    request_count = 0\n",
    "\n",
    "    # Iterate over events\n",
    "    for _, event in event_df.iterrows():\n",
    "        event_id = int(event['id'])\n",
    "        event_date = event['date'].to_pydatetime().replace(tzinfo=None)  # Make timezone naive\n",
    "        is_forecast = event_date > datetime.now() - timedelta(days=5)\n",
    "\n",
    "        # If weather data for the event does not exist or is incomplete, fetch it\n",
    "        if not any(data.get('id') == event_id and data.get('max_temp') for data in existing_weather_data):\n",
    "            weather_data = fetch_weather_data(event_id, str(event_date.date()), is_forecast)\n",
    "\n",
    "            if weather_data is not None:\n",
    "                existing_weather_data.append(weather_data)\n",
    "                save_json_to_file(existing_weather_data, WEATHER_DATA_FILE)\n",
    "\n",
    "            # Increment the request count\n",
    "            request_count += 1\n",
    "\n",
    "            # If we've reached the maximum number of requests, break the loop\n",
    "            if max_requests is not None and request_count >= max_requests:\n",
    "                break"
   ]
  },
  {
   "attachments": {},
   "cell_type": "markdown",
   "metadata": {},
   "source": [
    "### Load data, perform manipulation, and create visualization\n"
   ]
  },
  {
   "cell_type": "code",
   "execution_count": 6,
   "metadata": {},
   "outputs": [
    {
     "data": {
      "application/vnd.plotly.v1+json": {
       "config": {
        "plotlyServerURL": "https://plot.ly"
       },
       "data": [
        {
         "hoverinfo": "text",
         "hovertext": [
          "CTM #20<br>Continuous Testing Meetup in May @ WeWork Potsdamer Platz<br>Attendees: 91<br>Max Temp: 18.6°C",
          "CTM #21<br>Continuous Testing Meetup in June @ WeWork Stralauer Allee<br>Attendees: 102<br>Max Temp: 33.4°C",
          "CTM #22<br>Continuous Testing Meetup in August @ WeWork Stralauer Allee<br>Attendees: 105<br>Max Temp: 21.6°C",
          "CTM #23<br>Continuous Testing Meetup in September @ Vivy<br>Attendees: 100<br>Max Temp: 20.0°C",
          "CTM #24<br>Workshop - Get started with Selenium-based automated tests with OxygenHQ<br>Attendees: 27<br>Max Temp: 22.3°C",
          "CTM #25<br>Continuous Testing Meetup in October @ WeWork Stralauer Allee<br>Attendees: 118<br>Max Temp: 16.8°C",
          "CTM #26<br>Continuous Testing Meetup @ FlixBus - AI in Test Automation<br>Attendees: 98<br>Max Temp: 9.5°C",
          "CTM #27<br>Continuous Testing Meetup in December @ myToys<br>Attendees: 53<br>Max Temp: 6.2°C",
          "CTM #28<br>Continuous Testing Meetup in January @ Contentful<br>Attendees: 122<br>Max Temp: 4.9°C",
          "CTM #29<br>Continuous Testing Meetup in February @ BITGRIP<br>Attendees: 66<br>Max Temp: 7.2°C",
          "CTM #30<br>How to Work at Home and Not Go Insane - Online Meetup & Open Discussion<br>Attendees: 56<br>Max Temp: 10.0°C",
          "CTM #31<br>[Webinar] How to Overcome The Missing Appium Functionality with Wim Selles<br>Attendees: 27<br>Max Temp: 5.9°C",
          "CTM #32<br>Critical Thinking in Testing and in Life - Online Meetup & Open Discussion<br>Attendees: 46<br>Max Temp: 13.5°C",
          "CTM #33<br>How We Automated Testing, Got Rid of QA Engineers, And Survived - Online Meetup<br>Attendees: 62<br>Max Temp: 16.4°C",
          "CTM #34<br>Self-Management in The Testing Community - Online Meetup<br>Attendees: 32<br>Max Temp: 15.3°C",
          "CTM #35<br>Level Up the Developer Experience using Tests - Online Meetup<br>Attendees: 52<br>Max Temp: 17.8°C",
          "CTM #36<br>Arjuna - A Modern Web UI Test Automation Framework - Online Meetup<br>Attendees: 72<br>Max Temp: 15.8°C",
          "CTM #37<br>Breakfast & Learn: Lightning Talks at the Continuous Testing Meetup Online<br>Attendees: 40<br>Max Temp: 18.8°C",
          "CTM #38<br>Hunting Bugs with Puppeteer and AWS Lambda - Online Meetup<br>Attendees: 55<br>Max Temp: 25.3°C",
          "CTM #39<br>PyTest: The Awesome Parts - Online Meetup<br>Attendees: 71<br>Max Temp: 28.0°C",
          "CTM #40<br>The Female Champions of Rwanda's Rising Tech Scene - Online Meetup<br>Attendees: 31<br>Max Temp: 20.9°C",
          "CTM #41<br>Modern PERFORMANCE testing principles - Online Meetup<br>Attendees: 118<br>Max Temp: 18.2°C",
          "CTM #42<br>Setting Your Team Up For Success So Anyone Can Write Tests - Online Meetup<br>Attendees: 66<br>Max Temp: 22.6°C",
          "CTM #43<br>Continuous Feedback with Github Actions - Online Meetup<br>Attendees: 61<br>Max Temp: 31.2°C",
          "CTM #44<br>Verifying Relationships: Consumer-Driven Contract Tests and Microservices<br>Attendees: 74<br>Max Temp: 30.9°C",
          "CTM #45<br>Enhance Mobile User Experience through Performance Testing<br>Attendees: 86<br>Max Temp: 22.4°C",
          "CTM #46<br>Automated Testing With JavaScript<br>Attendees: 148<br>Max Temp: 18.3°C",
          "CTM #47<br>No Code Apps - Why and how to?<br>Attendees: 46<br>Max Temp: 16.2°C",
          "CTM #48<br>Hacktoberfest meets CTM Berlin<br>Attendees: 25<br>Max Temp: 16.0°C",
          "CTM #49<br>Assuring or Not Assuring quality?<br>Attendees: 75<br>Max Temp: 19.6°C",
          "CTM #50<br>Mentorships for our QA Engineers & Puppeteer Internals<br>Attendees: 45<br>Max Temp: 9.9°C",
          "CTM #51<br>Breaking Boundaries Using Charles<br>Attendees: 59<br>Max Temp: 0.5°C",
          "CTM #52<br>Test process improvement in an agile environment<br>Attendees: 94<br>Max Temp: 2.0°C",
          "CTM #53<br>Selenium + JUnit 5:  The Perfect Match<br>Attendees: 117<br>Max Temp: 3.2°C",
          "CTM #54<br>Speeding up your test execution in a fast-paced world<br>Attendees: 78<br>Max Temp: 15.6°C",
          "CTM #55<br>Beginning Test Automation: Part 1 of 3<br>Attendees: 25<br>Max Temp: 7.4°C",
          "CTM #56<br>Beginning Test Automation: Part 2 of 3<br>Attendees: 20<br>Max Temp: 19.3°C",
          "CTM #57<br>Beginning Test Automation: Part 3 of 3<br>Attendees: 20<br>Max Temp: 6.4°C",
          "CTM #58<br>“It works on my browser!” is the new “It works on my machine!”<br>Attendees: 59<br>Max Temp: 9.3°C",
          "CTM #59<br>Integration Testing  with Cypress<br>Attendees: 80<br>Max Temp: 12.0°C",
          "CTM #60<br>Career switch & Open Source<br>Attendees: 34<br>Max Temp: 15.3°C",
          "CTM #61<br>Ready for Test - a Symptom of a Poor Quality Culture<br>Attendees: 60<br>Max Temp: 20.7°C",
          "CTM #62<br>Shifting Accessibility Testing to the Left<br>Attendees: 70<br>Max Temp: 24.6°C",
          "CTM #63<br>Automation in Testing - Simplify Your Daily Testing Business<br>Attendees: 44<br>Max Temp: 21.6°C",
          "CTM #64<br>Growing A Culture of Quality<br>Attendees: 65<br>Max Temp: 15.0°C",
          "CTM #65<br>How to Bring Accessibility into Your Teams<br>Attendees: 25<br>Max Temp: 8.5°C",
          "CTM #66<br>The Screenplay Pattern: Better Interactions for Better Automation<br>Attendees: 70<br>Max Temp: 6.5°C",
          "CTM #67<br>Building & Testing a Web Application<br>Attendees: 110<br>Max Temp: 3.8°C",
          "CTM #68<br>The Road to QA<br>Attendees: 61<br>Max Temp: 8.8°C",
          "CTM #69<br>Autonomous testing: Empower your testing strategies<br>Attendees: 45<br>Max Temp: 29.4°C",
          "CTM #70<br>Shifting Quality To App-first @ La Redoute<br>Attendees: 34<br>Max Temp: 34.2°C",
          "CTM #71<br>Clash of the Titans: Cypress vs Playwright<br>Attendees: 82<br>Max Temp: 26.1°C",
          "CTM #72<br>Testee: real examples and best practice for e2e testing<br>Attendees: 49<br>Max Temp: 22.4°C",
          "CTM #73<br>How to Log a Bug<br>Attendees: 68<br>Max Temp: 18.6°C",
          "CTM #74<br>Test in the Cloud for Free - Run Docker Selenium in Heroku and Google Cloud Run<br>Attendees: 41<br>Max Temp: 5.7°C",
          "CTM #75<br>I ship CSS as soon as the tests pass. (I’m not crazy)<br>Attendees: 29<br>Max Temp: 2.1°C",
          "CTM #76<br>Selenide: UI tests in java & 10 bad advice on team design to decrease quality<br>Attendees: 62<br>Max Temp: 1.2°C",
          "CTM #77<br>The long road to remove the flakiness from the Haura Console E2E tests<br>Attendees: 33<br>Max Temp: 8.2°C",
          "CTM #78<br>Moving Cheese: The Art of Persuasion for Testers<br>Attendees: 56<br>Max Temp: 15.4°C",
          "CTM #79<br>Do customers define quality?<br>Attendees: 23<br>Max Temp: 11.2°C",
          "CTM #80<br>Every Engineer is a Quality Engineer - Our Android automation story<br>Attendees: 74<br>Max Temp: 10.4°C",
          "CTM #81<br>How to test API with Cypress<br>Attendees: 73<br>Max Temp: 15.1°C",
          "CTM #82<br>How to Test Easier with GoogleChrome DevTools & Sauce Labs<br>Attendees: 30<br>Max Temp: 25.8°C",
          "CTM #83<br>What the Fuzz? An introduction to Fuzz Testing<br>Attendees: 48<br>Max Temp: 28.2°C",
          "CTM #84<br>Talk #1: Zero Line Testsuite & Talk #2: e-prescription Testsuite<br>Attendees: 27<br>Max Temp: 22.9°C"
         ],
         "marker": {
          "color": [
           0.5370919881305638,
           0.976261127596439,
           0.6261127596439169,
           0.5786350148367952,
           0.6468842729970327,
           0.4836795252225519,
           0.2670623145400593,
           0.1691394658753709,
           0.13056379821958458,
           0.19881305637982194,
           0.28189910979228483,
           0.16023738872403562,
           0.38575667655786344,
           0.47181008902077143,
           0.4391691394658754,
           0.5133531157270029,
           0.45400593471810086,
           0.543026706231454,
           0.7359050445103857,
           0.8160237388724035,
           0.6053412462908011,
           0.5252225519287833,
           0.655786350148368,
           0.9109792284866468,
           0.9020771513353114,
           0.6498516320474776,
           0.5281899109792285,
           0.46587537091988124,
           0.45994065281899105,
           0.5667655786350149,
           0.27893175074183973,
           0,
           0.044510385756676554,
           0.08011869436201781,
           0.4480712166172106,
           0.20474777448071216,
           0.5578635014836795,
           0.17507418397626112,
           0.26112759643916916,
           0.3412462908011869,
           0.4391691394658754,
           0.5994065281899109,
           0.71513353115727,
           0.6261127596439169,
           0.43026706231454004,
           0.2373887240356083,
           0.17804154302670622,
           0.09792284866468841,
           0.24629080118694363,
           0.8575667655786349,
           1,
           0.7596439169139466,
           0.6498516320474776,
           0.5370919881305638,
           0.1543026706231454,
           0.04747774480712166,
           0.020771513353115723,
           0.22848664688427295,
           0.4421364985163205,
           0.3175074183976261,
           0.29376854599406527,
           0.43323442136498513,
           0.7507418397626112,
           0.8219584569732937,
           0.6646884272997031
          ],
          "colorscale": [
           [
            0,
            "rgb(5,48,97)"
           ],
           [
            0.1,
            "rgb(33,102,172)"
           ],
           [
            0.2,
            "rgb(67,147,195)"
           ],
           [
            0.3,
            "rgb(146,197,222)"
           ],
           [
            0.4,
            "rgb(209,229,240)"
           ],
           [
            0.5,
            "rgb(247,247,247)"
           ],
           [
            0.6,
            "rgb(253,219,199)"
           ],
           [
            0.7,
            "rgb(244,165,130)"
           ],
           [
            0.8,
            "rgb(214,96,77)"
           ],
           [
            0.9,
            "rgb(178,24,43)"
           ],
           [
            1,
            "rgb(103,0,31)"
           ]
          ],
          "line": {
           "width": 0
          },
          "opacity": 0.6
         },
         "type": "bar",
         "x": [
          20,
          21,
          22,
          23,
          24,
          25,
          26,
          27,
          28,
          29,
          30,
          31,
          32,
          33,
          34,
          35,
          36,
          37,
          38,
          39,
          40,
          41,
          42,
          43,
          44,
          45,
          46,
          47,
          48,
          49,
          50,
          51,
          52,
          53,
          54,
          55,
          56,
          57,
          58,
          59,
          60,
          61,
          62,
          63,
          64,
          65,
          66,
          67,
          68,
          69,
          70,
          71,
          72,
          73,
          74,
          75,
          76,
          77,
          78,
          79,
          80,
          81,
          82,
          83,
          84
         ],
         "y": [
          29,
          40,
          43,
          38,
          -35,
          56,
          36,
          -9,
          60,
          4,
          -6,
          -35,
          -16,
          0,
          -30,
          -10,
          10,
          -22,
          -7,
          9,
          -31,
          56,
          4,
          -1,
          12,
          24,
          86,
          -16,
          -37,
          13,
          -17,
          -3,
          32,
          55,
          16,
          -37,
          -42,
          -42,
          -3,
          18,
          -28,
          -2,
          8,
          -18,
          3,
          -37,
          8,
          48,
          -1,
          -17,
          -28,
          20,
          -13,
          6,
          -21,
          -33,
          0,
          -29,
          -6,
          -39,
          12,
          11,
          -32,
          -14,
          -35
         ],
         "yaxis": "y"
        },
        {
         "hoverinfo": "text",
         "hovertext": [
          "CTM #20<br>Continuous Testing Meetup in May @ WeWork Potsdamer Platz<br>Attendees: 91<br>Max Temp: 18.6°C",
          "CTM #21<br>Continuous Testing Meetup in June @ WeWork Stralauer Allee<br>Attendees: 102<br>Max Temp: 33.4°C",
          "CTM #22<br>Continuous Testing Meetup in August @ WeWork Stralauer Allee<br>Attendees: 105<br>Max Temp: 21.6°C",
          "CTM #23<br>Continuous Testing Meetup in September @ Vivy<br>Attendees: 100<br>Max Temp: 20.0°C",
          "CTM #24<br>Workshop - Get started with Selenium-based automated tests with OxygenHQ<br>Attendees: 27<br>Max Temp: 22.3°C",
          "CTM #25<br>Continuous Testing Meetup in October @ WeWork Stralauer Allee<br>Attendees: 118<br>Max Temp: 16.8°C",
          "CTM #26<br>Continuous Testing Meetup @ FlixBus - AI in Test Automation<br>Attendees: 98<br>Max Temp: 9.5°C",
          "CTM #27<br>Continuous Testing Meetup in December @ myToys<br>Attendees: 53<br>Max Temp: 6.2°C",
          "CTM #28<br>Continuous Testing Meetup in January @ Contentful<br>Attendees: 122<br>Max Temp: 4.9°C",
          "CTM #29<br>Continuous Testing Meetup in February @ BITGRIP<br>Attendees: 66<br>Max Temp: 7.2°C",
          "CTM #30<br>How to Work at Home and Not Go Insane - Online Meetup & Open Discussion<br>Attendees: 56<br>Max Temp: 10.0°C",
          "CTM #31<br>[Webinar] How to Overcome The Missing Appium Functionality with Wim Selles<br>Attendees: 27<br>Max Temp: 5.9°C",
          "CTM #32<br>Critical Thinking in Testing and in Life - Online Meetup & Open Discussion<br>Attendees: 46<br>Max Temp: 13.5°C",
          "CTM #33<br>How We Automated Testing, Got Rid of QA Engineers, And Survived - Online Meetup<br>Attendees: 62<br>Max Temp: 16.4°C",
          "CTM #34<br>Self-Management in The Testing Community - Online Meetup<br>Attendees: 32<br>Max Temp: 15.3°C",
          "CTM #35<br>Level Up the Developer Experience using Tests - Online Meetup<br>Attendees: 52<br>Max Temp: 17.8°C",
          "CTM #36<br>Arjuna - A Modern Web UI Test Automation Framework - Online Meetup<br>Attendees: 72<br>Max Temp: 15.8°C",
          "CTM #37<br>Breakfast & Learn: Lightning Talks at the Continuous Testing Meetup Online<br>Attendees: 40<br>Max Temp: 18.8°C",
          "CTM #38<br>Hunting Bugs with Puppeteer and AWS Lambda - Online Meetup<br>Attendees: 55<br>Max Temp: 25.3°C",
          "CTM #39<br>PyTest: The Awesome Parts - Online Meetup<br>Attendees: 71<br>Max Temp: 28.0°C",
          "CTM #40<br>The Female Champions of Rwanda's Rising Tech Scene - Online Meetup<br>Attendees: 31<br>Max Temp: 20.9°C",
          "CTM #41<br>Modern PERFORMANCE testing principles - Online Meetup<br>Attendees: 118<br>Max Temp: 18.2°C",
          "CTM #42<br>Setting Your Team Up For Success So Anyone Can Write Tests - Online Meetup<br>Attendees: 66<br>Max Temp: 22.6°C",
          "CTM #43<br>Continuous Feedback with Github Actions - Online Meetup<br>Attendees: 61<br>Max Temp: 31.2°C",
          "CTM #44<br>Verifying Relationships: Consumer-Driven Contract Tests and Microservices<br>Attendees: 74<br>Max Temp: 30.9°C",
          "CTM #45<br>Enhance Mobile User Experience through Performance Testing<br>Attendees: 86<br>Max Temp: 22.4°C",
          "CTM #46<br>Automated Testing With JavaScript<br>Attendees: 148<br>Max Temp: 18.3°C",
          "CTM #47<br>No Code Apps - Why and how to?<br>Attendees: 46<br>Max Temp: 16.2°C",
          "CTM #48<br>Hacktoberfest meets CTM Berlin<br>Attendees: 25<br>Max Temp: 16.0°C",
          "CTM #49<br>Assuring or Not Assuring quality?<br>Attendees: 75<br>Max Temp: 19.6°C",
          "CTM #50<br>Mentorships for our QA Engineers & Puppeteer Internals<br>Attendees: 45<br>Max Temp: 9.9°C",
          "CTM #51<br>Breaking Boundaries Using Charles<br>Attendees: 59<br>Max Temp: 0.5°C",
          "CTM #52<br>Test process improvement in an agile environment<br>Attendees: 94<br>Max Temp: 2.0°C",
          "CTM #53<br>Selenium + JUnit 5:  The Perfect Match<br>Attendees: 117<br>Max Temp: 3.2°C",
          "CTM #54<br>Speeding up your test execution in a fast-paced world<br>Attendees: 78<br>Max Temp: 15.6°C",
          "CTM #55<br>Beginning Test Automation: Part 1 of 3<br>Attendees: 25<br>Max Temp: 7.4°C",
          "CTM #56<br>Beginning Test Automation: Part 2 of 3<br>Attendees: 20<br>Max Temp: 19.3°C",
          "CTM #57<br>Beginning Test Automation: Part 3 of 3<br>Attendees: 20<br>Max Temp: 6.4°C",
          "CTM #58<br>“It works on my browser!” is the new “It works on my machine!”<br>Attendees: 59<br>Max Temp: 9.3°C",
          "CTM #59<br>Integration Testing  with Cypress<br>Attendees: 80<br>Max Temp: 12.0°C",
          "CTM #60<br>Career switch & Open Source<br>Attendees: 34<br>Max Temp: 15.3°C",
          "CTM #61<br>Ready for Test - a Symptom of a Poor Quality Culture<br>Attendees: 60<br>Max Temp: 20.7°C",
          "CTM #62<br>Shifting Accessibility Testing to the Left<br>Attendees: 70<br>Max Temp: 24.6°C",
          "CTM #63<br>Automation in Testing - Simplify Your Daily Testing Business<br>Attendees: 44<br>Max Temp: 21.6°C",
          "CTM #64<br>Growing A Culture of Quality<br>Attendees: 65<br>Max Temp: 15.0°C",
          "CTM #65<br>How to Bring Accessibility into Your Teams<br>Attendees: 25<br>Max Temp: 8.5°C",
          "CTM #66<br>The Screenplay Pattern: Better Interactions for Better Automation<br>Attendees: 70<br>Max Temp: 6.5°C",
          "CTM #67<br>Building & Testing a Web Application<br>Attendees: 110<br>Max Temp: 3.8°C",
          "CTM #68<br>The Road to QA<br>Attendees: 61<br>Max Temp: 8.8°C",
          "CTM #69<br>Autonomous testing: Empower your testing strategies<br>Attendees: 45<br>Max Temp: 29.4°C",
          "CTM #70<br>Shifting Quality To App-first @ La Redoute<br>Attendees: 34<br>Max Temp: 34.2°C",
          "CTM #71<br>Clash of the Titans: Cypress vs Playwright<br>Attendees: 82<br>Max Temp: 26.1°C",
          "CTM #72<br>Testee: real examples and best practice for e2e testing<br>Attendees: 49<br>Max Temp: 22.4°C",
          "CTM #73<br>How to Log a Bug<br>Attendees: 68<br>Max Temp: 18.6°C",
          "CTM #74<br>Test in the Cloud for Free - Run Docker Selenium in Heroku and Google Cloud Run<br>Attendees: 41<br>Max Temp: 5.7°C",
          "CTM #75<br>I ship CSS as soon as the tests pass. (I’m not crazy)<br>Attendees: 29<br>Max Temp: 2.1°C",
          "CTM #76<br>Selenide: UI tests in java & 10 bad advice on team design to decrease quality<br>Attendees: 62<br>Max Temp: 1.2°C",
          "CTM #77<br>The long road to remove the flakiness from the Haura Console E2E tests<br>Attendees: 33<br>Max Temp: 8.2°C",
          "CTM #78<br>Moving Cheese: The Art of Persuasion for Testers<br>Attendees: 56<br>Max Temp: 15.4°C",
          "CTM #79<br>Do customers define quality?<br>Attendees: 23<br>Max Temp: 11.2°C",
          "CTM #80<br>Every Engineer is a Quality Engineer - Our Android automation story<br>Attendees: 74<br>Max Temp: 10.4°C",
          "CTM #81<br>How to test API with Cypress<br>Attendees: 73<br>Max Temp: 15.1°C",
          "CTM #82<br>How to Test Easier with GoogleChrome DevTools & Sauce Labs<br>Attendees: 30<br>Max Temp: 25.8°C",
          "CTM #83<br>What the Fuzz? An introduction to Fuzz Testing<br>Attendees: 48<br>Max Temp: 28.2°C",
          "CTM #84<br>Talk #1: Zero Line Testsuite & Talk #2: e-prescription Testsuite<br>Attendees: 27<br>Max Temp: 22.9°C"
         ],
         "line": {
          "color": "rgb(255,255,255)"
         },
         "mode": "text",
         "showlegend": false,
         "type": "scatter",
         "x": [
          20,
          21,
          22,
          23,
          24,
          25,
          26,
          27,
          28,
          29,
          30,
          31,
          32,
          33,
          34,
          35,
          36,
          37,
          38,
          39,
          40,
          41,
          42,
          43,
          44,
          45,
          46,
          47,
          48,
          49,
          50,
          51,
          52,
          53,
          54,
          55,
          56,
          57,
          58,
          59,
          60,
          61,
          62,
          63,
          64,
          65,
          66,
          67,
          68,
          69,
          70,
          71,
          72,
          73,
          74,
          75,
          76,
          77,
          78,
          79,
          80,
          81,
          82,
          83,
          84
         ],
         "y": [
          91,
          102,
          105,
          100,
          27,
          118,
          98,
          53,
          122,
          66,
          56,
          27,
          46,
          62,
          32,
          52,
          72,
          40,
          55,
          71,
          31,
          118,
          66,
          61,
          74,
          86,
          148,
          46,
          25,
          75,
          45,
          59,
          94,
          117,
          78,
          25,
          20,
          20,
          59,
          80,
          34,
          60,
          70,
          44,
          65,
          25,
          70,
          110,
          61,
          45,
          34,
          82,
          49,
          68,
          41,
          29,
          62,
          33,
          56,
          23,
          74,
          73,
          30,
          48,
          27
         ],
         "yaxis": "y2"
        }
       ],
       "layout": {
        "font": {
         "color": "rgb(255,255,255)"
        },
        "paper_bgcolor": "rgb(40,40,40)",
        "plot_bgcolor": "rgb(40,40,40)",
        "showlegend": false,
        "template": {
         "data": {
          "bar": [
           {
            "error_x": {
             "color": "#2a3f5f"
            },
            "error_y": {
             "color": "#2a3f5f"
            },
            "marker": {
             "line": {
              "color": "#E5ECF6",
              "width": 0.5
             },
             "pattern": {
              "fillmode": "overlay",
              "size": 10,
              "solidity": 0.2
             }
            },
            "type": "bar"
           }
          ],
          "barpolar": [
           {
            "marker": {
             "line": {
              "color": "#E5ECF6",
              "width": 0.5
             },
             "pattern": {
              "fillmode": "overlay",
              "size": 10,
              "solidity": 0.2
             }
            },
            "type": "barpolar"
           }
          ],
          "carpet": [
           {
            "aaxis": {
             "endlinecolor": "#2a3f5f",
             "gridcolor": "white",
             "linecolor": "white",
             "minorgridcolor": "white",
             "startlinecolor": "#2a3f5f"
            },
            "baxis": {
             "endlinecolor": "#2a3f5f",
             "gridcolor": "white",
             "linecolor": "white",
             "minorgridcolor": "white",
             "startlinecolor": "#2a3f5f"
            },
            "type": "carpet"
           }
          ],
          "choropleth": [
           {
            "colorbar": {
             "outlinewidth": 0,
             "ticks": ""
            },
            "type": "choropleth"
           }
          ],
          "contour": [
           {
            "colorbar": {
             "outlinewidth": 0,
             "ticks": ""
            },
            "colorscale": [
             [
              0,
              "#0d0887"
             ],
             [
              0.1111111111111111,
              "#46039f"
             ],
             [
              0.2222222222222222,
              "#7201a8"
             ],
             [
              0.3333333333333333,
              "#9c179e"
             ],
             [
              0.4444444444444444,
              "#bd3786"
             ],
             [
              0.5555555555555556,
              "#d8576b"
             ],
             [
              0.6666666666666666,
              "#ed7953"
             ],
             [
              0.7777777777777778,
              "#fb9f3a"
             ],
             [
              0.8888888888888888,
              "#fdca26"
             ],
             [
              1,
              "#f0f921"
             ]
            ],
            "type": "contour"
           }
          ],
          "contourcarpet": [
           {
            "colorbar": {
             "outlinewidth": 0,
             "ticks": ""
            },
            "type": "contourcarpet"
           }
          ],
          "heatmap": [
           {
            "colorbar": {
             "outlinewidth": 0,
             "ticks": ""
            },
            "colorscale": [
             [
              0,
              "#0d0887"
             ],
             [
              0.1111111111111111,
              "#46039f"
             ],
             [
              0.2222222222222222,
              "#7201a8"
             ],
             [
              0.3333333333333333,
              "#9c179e"
             ],
             [
              0.4444444444444444,
              "#bd3786"
             ],
             [
              0.5555555555555556,
              "#d8576b"
             ],
             [
              0.6666666666666666,
              "#ed7953"
             ],
             [
              0.7777777777777778,
              "#fb9f3a"
             ],
             [
              0.8888888888888888,
              "#fdca26"
             ],
             [
              1,
              "#f0f921"
             ]
            ],
            "type": "heatmap"
           }
          ],
          "heatmapgl": [
           {
            "colorbar": {
             "outlinewidth": 0,
             "ticks": ""
            },
            "colorscale": [
             [
              0,
              "#0d0887"
             ],
             [
              0.1111111111111111,
              "#46039f"
             ],
             [
              0.2222222222222222,
              "#7201a8"
             ],
             [
              0.3333333333333333,
              "#9c179e"
             ],
             [
              0.4444444444444444,
              "#bd3786"
             ],
             [
              0.5555555555555556,
              "#d8576b"
             ],
             [
              0.6666666666666666,
              "#ed7953"
             ],
             [
              0.7777777777777778,
              "#fb9f3a"
             ],
             [
              0.8888888888888888,
              "#fdca26"
             ],
             [
              1,
              "#f0f921"
             ]
            ],
            "type": "heatmapgl"
           }
          ],
          "histogram": [
           {
            "marker": {
             "pattern": {
              "fillmode": "overlay",
              "size": 10,
              "solidity": 0.2
             }
            },
            "type": "histogram"
           }
          ],
          "histogram2d": [
           {
            "colorbar": {
             "outlinewidth": 0,
             "ticks": ""
            },
            "colorscale": [
             [
              0,
              "#0d0887"
             ],
             [
              0.1111111111111111,
              "#46039f"
             ],
             [
              0.2222222222222222,
              "#7201a8"
             ],
             [
              0.3333333333333333,
              "#9c179e"
             ],
             [
              0.4444444444444444,
              "#bd3786"
             ],
             [
              0.5555555555555556,
              "#d8576b"
             ],
             [
              0.6666666666666666,
              "#ed7953"
             ],
             [
              0.7777777777777778,
              "#fb9f3a"
             ],
             [
              0.8888888888888888,
              "#fdca26"
             ],
             [
              1,
              "#f0f921"
             ]
            ],
            "type": "histogram2d"
           }
          ],
          "histogram2dcontour": [
           {
            "colorbar": {
             "outlinewidth": 0,
             "ticks": ""
            },
            "colorscale": [
             [
              0,
              "#0d0887"
             ],
             [
              0.1111111111111111,
              "#46039f"
             ],
             [
              0.2222222222222222,
              "#7201a8"
             ],
             [
              0.3333333333333333,
              "#9c179e"
             ],
             [
              0.4444444444444444,
              "#bd3786"
             ],
             [
              0.5555555555555556,
              "#d8576b"
             ],
             [
              0.6666666666666666,
              "#ed7953"
             ],
             [
              0.7777777777777778,
              "#fb9f3a"
             ],
             [
              0.8888888888888888,
              "#fdca26"
             ],
             [
              1,
              "#f0f921"
             ]
            ],
            "type": "histogram2dcontour"
           }
          ],
          "mesh3d": [
           {
            "colorbar": {
             "outlinewidth": 0,
             "ticks": ""
            },
            "type": "mesh3d"
           }
          ],
          "parcoords": [
           {
            "line": {
             "colorbar": {
              "outlinewidth": 0,
              "ticks": ""
             }
            },
            "type": "parcoords"
           }
          ],
          "pie": [
           {
            "automargin": true,
            "type": "pie"
           }
          ],
          "scatter": [
           {
            "fillpattern": {
             "fillmode": "overlay",
             "size": 10,
             "solidity": 0.2
            },
            "type": "scatter"
           }
          ],
          "scatter3d": [
           {
            "line": {
             "colorbar": {
              "outlinewidth": 0,
              "ticks": ""
             }
            },
            "marker": {
             "colorbar": {
              "outlinewidth": 0,
              "ticks": ""
             }
            },
            "type": "scatter3d"
           }
          ],
          "scattercarpet": [
           {
            "marker": {
             "colorbar": {
              "outlinewidth": 0,
              "ticks": ""
             }
            },
            "type": "scattercarpet"
           }
          ],
          "scattergeo": [
           {
            "marker": {
             "colorbar": {
              "outlinewidth": 0,
              "ticks": ""
             }
            },
            "type": "scattergeo"
           }
          ],
          "scattergl": [
           {
            "marker": {
             "colorbar": {
              "outlinewidth": 0,
              "ticks": ""
             }
            },
            "type": "scattergl"
           }
          ],
          "scattermapbox": [
           {
            "marker": {
             "colorbar": {
              "outlinewidth": 0,
              "ticks": ""
             }
            },
            "type": "scattermapbox"
           }
          ],
          "scatterpolar": [
           {
            "marker": {
             "colorbar": {
              "outlinewidth": 0,
              "ticks": ""
             }
            },
            "type": "scatterpolar"
           }
          ],
          "scatterpolargl": [
           {
            "marker": {
             "colorbar": {
              "outlinewidth": 0,
              "ticks": ""
             }
            },
            "type": "scatterpolargl"
           }
          ],
          "scatterternary": [
           {
            "marker": {
             "colorbar": {
              "outlinewidth": 0,
              "ticks": ""
             }
            },
            "type": "scatterternary"
           }
          ],
          "surface": [
           {
            "colorbar": {
             "outlinewidth": 0,
             "ticks": ""
            },
            "colorscale": [
             [
              0,
              "#0d0887"
             ],
             [
              0.1111111111111111,
              "#46039f"
             ],
             [
              0.2222222222222222,
              "#7201a8"
             ],
             [
              0.3333333333333333,
              "#9c179e"
             ],
             [
              0.4444444444444444,
              "#bd3786"
             ],
             [
              0.5555555555555556,
              "#d8576b"
             ],
             [
              0.6666666666666666,
              "#ed7953"
             ],
             [
              0.7777777777777778,
              "#fb9f3a"
             ],
             [
              0.8888888888888888,
              "#fdca26"
             ],
             [
              1,
              "#f0f921"
             ]
            ],
            "type": "surface"
           }
          ],
          "table": [
           {
            "cells": {
             "fill": {
              "color": "#EBF0F8"
             },
             "line": {
              "color": "white"
             }
            },
            "header": {
             "fill": {
              "color": "#C8D4E3"
             },
             "line": {
              "color": "white"
             }
            },
            "type": "table"
           }
          ]
         },
         "layout": {
          "annotationdefaults": {
           "arrowcolor": "#2a3f5f",
           "arrowhead": 0,
           "arrowwidth": 1
          },
          "autotypenumbers": "strict",
          "coloraxis": {
           "colorbar": {
            "outlinewidth": 0,
            "ticks": ""
           }
          },
          "colorscale": {
           "diverging": [
            [
             0,
             "#8e0152"
            ],
            [
             0.1,
             "#c51b7d"
            ],
            [
             0.2,
             "#de77ae"
            ],
            [
             0.3,
             "#f1b6da"
            ],
            [
             0.4,
             "#fde0ef"
            ],
            [
             0.5,
             "#f7f7f7"
            ],
            [
             0.6,
             "#e6f5d0"
            ],
            [
             0.7,
             "#b8e186"
            ],
            [
             0.8,
             "#7fbc41"
            ],
            [
             0.9,
             "#4d9221"
            ],
            [
             1,
             "#276419"
            ]
           ],
           "sequential": [
            [
             0,
             "#0d0887"
            ],
            [
             0.1111111111111111,
             "#46039f"
            ],
            [
             0.2222222222222222,
             "#7201a8"
            ],
            [
             0.3333333333333333,
             "#9c179e"
            ],
            [
             0.4444444444444444,
             "#bd3786"
            ],
            [
             0.5555555555555556,
             "#d8576b"
            ],
            [
             0.6666666666666666,
             "#ed7953"
            ],
            [
             0.7777777777777778,
             "#fb9f3a"
            ],
            [
             0.8888888888888888,
             "#fdca26"
            ],
            [
             1,
             "#f0f921"
            ]
           ],
           "sequentialminus": [
            [
             0,
             "#0d0887"
            ],
            [
             0.1111111111111111,
             "#46039f"
            ],
            [
             0.2222222222222222,
             "#7201a8"
            ],
            [
             0.3333333333333333,
             "#9c179e"
            ],
            [
             0.4444444444444444,
             "#bd3786"
            ],
            [
             0.5555555555555556,
             "#d8576b"
            ],
            [
             0.6666666666666666,
             "#ed7953"
            ],
            [
             0.7777777777777778,
             "#fb9f3a"
            ],
            [
             0.8888888888888888,
             "#fdca26"
            ],
            [
             1,
             "#f0f921"
            ]
           ]
          },
          "colorway": [
           "#636efa",
           "#EF553B",
           "#00cc96",
           "#ab63fa",
           "#FFA15A",
           "#19d3f3",
           "#FF6692",
           "#B6E880",
           "#FF97FF",
           "#FECB52"
          ],
          "font": {
           "color": "#2a3f5f"
          },
          "geo": {
           "bgcolor": "white",
           "lakecolor": "white",
           "landcolor": "#E5ECF6",
           "showlakes": true,
           "showland": true,
           "subunitcolor": "white"
          },
          "hoverlabel": {
           "align": "left"
          },
          "hovermode": "closest",
          "mapbox": {
           "style": "light"
          },
          "paper_bgcolor": "white",
          "plot_bgcolor": "#E5ECF6",
          "polar": {
           "angularaxis": {
            "gridcolor": "white",
            "linecolor": "white",
            "ticks": ""
           },
           "bgcolor": "#E5ECF6",
           "radialaxis": {
            "gridcolor": "white",
            "linecolor": "white",
            "ticks": ""
           }
          },
          "scene": {
           "xaxis": {
            "backgroundcolor": "#E5ECF6",
            "gridcolor": "white",
            "gridwidth": 2,
            "linecolor": "white",
            "showbackground": true,
            "ticks": "",
            "zerolinecolor": "white"
           },
           "yaxis": {
            "backgroundcolor": "#E5ECF6",
            "gridcolor": "white",
            "gridwidth": 2,
            "linecolor": "white",
            "showbackground": true,
            "ticks": "",
            "zerolinecolor": "white"
           },
           "zaxis": {
            "backgroundcolor": "#E5ECF6",
            "gridcolor": "white",
            "gridwidth": 2,
            "linecolor": "white",
            "showbackground": true,
            "ticks": "",
            "zerolinecolor": "white"
           }
          },
          "shapedefaults": {
           "line": {
            "color": "#2a3f5f"
           }
          },
          "ternary": {
           "aaxis": {
            "gridcolor": "white",
            "linecolor": "white",
            "ticks": ""
           },
           "baxis": {
            "gridcolor": "white",
            "linecolor": "white",
            "ticks": ""
           },
           "bgcolor": "#E5ECF6",
           "caxis": {
            "gridcolor": "white",
            "linecolor": "white",
            "ticks": ""
           }
          },
          "title": {
           "x": 0.05
          },
          "xaxis": {
           "automargin": true,
           "gridcolor": "white",
           "linecolor": "white",
           "ticks": "",
           "title": {
            "standoff": 15
           },
           "zerolinecolor": "white",
           "zerolinewidth": 2
          },
          "yaxis": {
           "automargin": true,
           "gridcolor": "white",
           "linecolor": "white",
           "ticks": "",
           "title": {
            "standoff": 15
           },
           "zerolinecolor": "white",
           "zerolinewidth": 2
          }
         }
        },
        "title": {
         "text": "Attendees Compared to Average Over Time"
        },
        "xaxis": {
         "showticklabels": false
        },
        "yaxis": {
         "showgrid": false,
         "title": {
          "text": "Attendees Compared to Average"
         },
         "zeroline": false
        },
        "yaxis2": {
         "overlaying": "y",
         "showgrid": false,
         "side": "right",
         "title": {
          "text": "Total Attendees"
         },
         "zeroline": false
        }
       }
      },
      "text/html": [
       "<div>                            <div id=\"0090c5f3-ad14-440f-bedf-8a5afaed225d\" class=\"plotly-graph-div\" style=\"height:525px; width:100%;\"></div>            <script type=\"text/javascript\">                require([\"plotly\"], function(Plotly) {                    window.PLOTLYENV=window.PLOTLYENV || {};                                    if (document.getElementById(\"0090c5f3-ad14-440f-bedf-8a5afaed225d\")) {                    Plotly.newPlot(                        \"0090c5f3-ad14-440f-bedf-8a5afaed225d\",                        [{\"hoverinfo\":\"text\",\"hovertext\":[\"CTM #20<br>Continuous Testing Meetup in May @ WeWork Potsdamer Platz<br>Attendees: 91<br>Max Temp: 18.6\\u00b0C\",\"CTM #21<br>Continuous Testing Meetup in June @ WeWork Stralauer Allee<br>Attendees: 102<br>Max Temp: 33.4\\u00b0C\",\"CTM #22<br>Continuous Testing Meetup in August @ WeWork Stralauer Allee<br>Attendees: 105<br>Max Temp: 21.6\\u00b0C\",\"CTM #23<br>Continuous Testing Meetup in September @ Vivy<br>Attendees: 100<br>Max Temp: 20.0\\u00b0C\",\"CTM #24<br>Workshop - Get started with Selenium-based automated tests with OxygenHQ<br>Attendees: 27<br>Max Temp: 22.3\\u00b0C\",\"CTM #25<br>Continuous Testing Meetup in October @ WeWork Stralauer Allee<br>Attendees: 118<br>Max Temp: 16.8\\u00b0C\",\"CTM #26<br>Continuous Testing Meetup @ FlixBus - AI in Test Automation<br>Attendees: 98<br>Max Temp: 9.5\\u00b0C\",\"CTM #27<br>Continuous Testing Meetup in December @ myToys<br>Attendees: 53<br>Max Temp: 6.2\\u00b0C\",\"CTM #28<br>Continuous Testing Meetup in January @ Contentful<br>Attendees: 122<br>Max Temp: 4.9\\u00b0C\",\"CTM #29<br>Continuous Testing Meetup in February @ BITGRIP<br>Attendees: 66<br>Max Temp: 7.2\\u00b0C\",\"CTM #30<br>How to Work at Home and Not Go Insane - Online Meetup & Open Discussion<br>Attendees: 56<br>Max Temp: 10.0\\u00b0C\",\"CTM #31<br>[Webinar] How to Overcome The Missing Appium Functionality with Wim Selles<br>Attendees: 27<br>Max Temp: 5.9\\u00b0C\",\"CTM #32<br>Critical Thinking in Testing and in Life - Online Meetup & Open Discussion<br>Attendees: 46<br>Max Temp: 13.5\\u00b0C\",\"CTM #33<br>How We Automated Testing, Got Rid of QA Engineers, And Survived - Online Meetup<br>Attendees: 62<br>Max Temp: 16.4\\u00b0C\",\"CTM #34<br>Self-Management in The Testing Community - Online Meetup<br>Attendees: 32<br>Max Temp: 15.3\\u00b0C\",\"CTM #35<br>Level Up the Developer Experience using Tests - Online Meetup<br>Attendees: 52<br>Max Temp: 17.8\\u00b0C\",\"CTM #36<br>Arjuna - A Modern Web UI Test Automation Framework - Online Meetup<br>Attendees: 72<br>Max Temp: 15.8\\u00b0C\",\"CTM #37<br>Breakfast & Learn: Lightning Talks at the Continuous Testing Meetup Online<br>Attendees: 40<br>Max Temp: 18.8\\u00b0C\",\"CTM #38<br>Hunting Bugs with Puppeteer and AWS Lambda - Online Meetup<br>Attendees: 55<br>Max Temp: 25.3\\u00b0C\",\"CTM #39<br>PyTest: The Awesome Parts - Online Meetup<br>Attendees: 71<br>Max Temp: 28.0\\u00b0C\",\"CTM #40<br>The Female Champions of Rwanda's Rising Tech Scene - Online Meetup<br>Attendees: 31<br>Max Temp: 20.9\\u00b0C\",\"CTM #41<br>Modern PERFORMANCE testing principles - Online Meetup<br>Attendees: 118<br>Max Temp: 18.2\\u00b0C\",\"CTM #42<br>Setting Your Team Up For Success So Anyone Can Write Tests - Online Meetup<br>Attendees: 66<br>Max Temp: 22.6\\u00b0C\",\"CTM #43<br>Continuous Feedback with Github Actions - Online Meetup<br>Attendees: 61<br>Max Temp: 31.2\\u00b0C\",\"CTM #44<br>Verifying Relationships: Consumer-Driven Contract Tests and Microservices<br>Attendees: 74<br>Max Temp: 30.9\\u00b0C\",\"CTM #45<br>Enhance Mobile User Experience through Performance Testing<br>Attendees: 86<br>Max Temp: 22.4\\u00b0C\",\"CTM #46<br>Automated Testing With JavaScript<br>Attendees: 148<br>Max Temp: 18.3\\u00b0C\",\"CTM #47<br>No Code Apps - Why and how to?<br>Attendees: 46<br>Max Temp: 16.2\\u00b0C\",\"CTM #48<br>Hacktoberfest meets CTM Berlin<br>Attendees: 25<br>Max Temp: 16.0\\u00b0C\",\"CTM #49<br>Assuring or Not Assuring quality?<br>Attendees: 75<br>Max Temp: 19.6\\u00b0C\",\"CTM #50<br>Mentorships for our QA Engineers & Puppeteer Internals<br>Attendees: 45<br>Max Temp: 9.9\\u00b0C\",\"CTM #51<br>Breaking Boundaries Using Charles<br>Attendees: 59<br>Max Temp: 0.5\\u00b0C\",\"CTM #52<br>Test process improvement in an agile environment<br>Attendees: 94<br>Max Temp: 2.0\\u00b0C\",\"CTM #53<br>Selenium + JUnit 5:  The Perfect Match<br>Attendees: 117<br>Max Temp: 3.2\\u00b0C\",\"CTM #54<br>Speeding up your test execution in a fast-paced world<br>Attendees: 78<br>Max Temp: 15.6\\u00b0C\",\"CTM #55<br>Beginning Test Automation: Part 1 of 3<br>Attendees: 25<br>Max Temp: 7.4\\u00b0C\",\"CTM #56<br>Beginning Test Automation: Part 2 of 3<br>Attendees: 20<br>Max Temp: 19.3\\u00b0C\",\"CTM #57<br>Beginning Test Automation: Part 3 of 3<br>Attendees: 20<br>Max Temp: 6.4\\u00b0C\",\"CTM #58<br>\\u201cIt works on my browser!\\u201d is the new \\u201cIt works on my machine!\\u201d<br>Attendees: 59<br>Max Temp: 9.3\\u00b0C\",\"CTM #59<br>Integration Testing  with Cypress<br>Attendees: 80<br>Max Temp: 12.0\\u00b0C\",\"CTM #60<br>Career switch & Open Source<br>Attendees: 34<br>Max Temp: 15.3\\u00b0C\",\"CTM #61<br>Ready for Test - a Symptom of a Poor Quality Culture<br>Attendees: 60<br>Max Temp: 20.7\\u00b0C\",\"CTM #62<br>Shifting Accessibility Testing to the Left<br>Attendees: 70<br>Max Temp: 24.6\\u00b0C\",\"CTM #63<br>Automation in Testing - Simplify Your Daily Testing Business<br>Attendees: 44<br>Max Temp: 21.6\\u00b0C\",\"CTM #64<br>Growing A Culture of Quality<br>Attendees: 65<br>Max Temp: 15.0\\u00b0C\",\"CTM #65<br>How to Bring Accessibility into Your Teams<br>Attendees: 25<br>Max Temp: 8.5\\u00b0C\",\"CTM #66<br>The Screenplay Pattern: Better Interactions for Better Automation<br>Attendees: 70<br>Max Temp: 6.5\\u00b0C\",\"CTM #67<br>Building & Testing a Web Application<br>Attendees: 110<br>Max Temp: 3.8\\u00b0C\",\"CTM #68<br>The Road to QA<br>Attendees: 61<br>Max Temp: 8.8\\u00b0C\",\"CTM #69<br>Autonomous testing: Empower your testing strategies<br>Attendees: 45<br>Max Temp: 29.4\\u00b0C\",\"CTM #70<br>Shifting Quality To App-first @ La Redoute<br>Attendees: 34<br>Max Temp: 34.2\\u00b0C\",\"CTM #71<br>Clash of the Titans: Cypress vs Playwright<br>Attendees: 82<br>Max Temp: 26.1\\u00b0C\",\"CTM #72<br>Testee: real examples and best practice for e2e testing<br>Attendees: 49<br>Max Temp: 22.4\\u00b0C\",\"CTM #73<br>How to Log a Bug<br>Attendees: 68<br>Max Temp: 18.6\\u00b0C\",\"CTM #74<br>Test in the Cloud for Free - Run Docker Selenium in Heroku and Google Cloud Run<br>Attendees: 41<br>Max Temp: 5.7\\u00b0C\",\"CTM #75<br>I ship CSS as soon as the tests pass. (I\\u2019m not crazy)<br>Attendees: 29<br>Max Temp: 2.1\\u00b0C\",\"CTM #76<br>Selenide: UI tests in java & 10 bad advice on team design to decrease quality<br>Attendees: 62<br>Max Temp: 1.2\\u00b0C\",\"CTM #77<br>The long road to remove the flakiness from the Haura Console E2E tests<br>Attendees: 33<br>Max Temp: 8.2\\u00b0C\",\"CTM #78<br>Moving Cheese: The Art of Persuasion for Testers<br>Attendees: 56<br>Max Temp: 15.4\\u00b0C\",\"CTM #79<br>Do customers define quality?<br>Attendees: 23<br>Max Temp: 11.2\\u00b0C\",\"CTM #80<br>Every Engineer is a Quality Engineer - Our Android automation story<br>Attendees: 74<br>Max Temp: 10.4\\u00b0C\",\"CTM #81<br>How to test API with Cypress<br>Attendees: 73<br>Max Temp: 15.1\\u00b0C\",\"CTM #82<br>How to Test Easier with GoogleChrome DevTools & Sauce Labs<br>Attendees: 30<br>Max Temp: 25.8\\u00b0C\",\"CTM #83<br>What the Fuzz? An introduction to Fuzz Testing<br>Attendees: 48<br>Max Temp: 28.2\\u00b0C\",\"CTM #84<br>Talk #1: Zero Line Testsuite & Talk #2: e-prescription Testsuite<br>Attendees: 27<br>Max Temp: 22.9\\u00b0C\"],\"marker\":{\"color\":[0.5370919881305638,0.976261127596439,0.6261127596439169,0.5786350148367952,0.6468842729970327,0.4836795252225519,0.2670623145400593,0.1691394658753709,0.13056379821958458,0.19881305637982194,0.28189910979228483,0.16023738872403562,0.38575667655786344,0.47181008902077143,0.4391691394658754,0.5133531157270029,0.45400593471810086,0.543026706231454,0.7359050445103857,0.8160237388724035,0.6053412462908011,0.5252225519287833,0.655786350148368,0.9109792284866468,0.9020771513353114,0.6498516320474776,0.5281899109792285,0.46587537091988124,0.45994065281899105,0.5667655786350149,0.27893175074183973,0.0,0.044510385756676554,0.08011869436201781,0.4480712166172106,0.20474777448071216,0.5578635014836795,0.17507418397626112,0.26112759643916916,0.3412462908011869,0.4391691394658754,0.5994065281899109,0.71513353115727,0.6261127596439169,0.43026706231454004,0.2373887240356083,0.17804154302670622,0.09792284866468841,0.24629080118694363,0.8575667655786349,1.0,0.7596439169139466,0.6498516320474776,0.5370919881305638,0.1543026706231454,0.04747774480712166,0.020771513353115723,0.22848664688427295,0.4421364985163205,0.3175074183976261,0.29376854599406527,0.43323442136498513,0.7507418397626112,0.8219584569732937,0.6646884272997031],\"colorscale\":[[0.0,\"rgb(5,48,97)\"],[0.1,\"rgb(33,102,172)\"],[0.2,\"rgb(67,147,195)\"],[0.3,\"rgb(146,197,222)\"],[0.4,\"rgb(209,229,240)\"],[0.5,\"rgb(247,247,247)\"],[0.6,\"rgb(253,219,199)\"],[0.7,\"rgb(244,165,130)\"],[0.8,\"rgb(214,96,77)\"],[0.9,\"rgb(178,24,43)\"],[1.0,\"rgb(103,0,31)\"]],\"line\":{\"width\":0},\"opacity\":0.6},\"x\":[20,21,22,23,24,25,26,27,28,29,30,31,32,33,34,35,36,37,38,39,40,41,42,43,44,45,46,47,48,49,50,51,52,53,54,55,56,57,58,59,60,61,62,63,64,65,66,67,68,69,70,71,72,73,74,75,76,77,78,79,80,81,82,83,84],\"y\":[29.0,40.0,43.0,38.0,-35.0,56.0,36.0,-9.0,60.0,4.0,-6.0,-35.0,-16.0,0.0,-30.0,-10.0,10.0,-22.0,-7.0,9.0,-31.0,56.0,4.0,-1.0,12.0,24.0,86.0,-16.0,-37.0,13.0,-17.0,-3.0,32.0,55.0,16.0,-37.0,-42.0,-42.0,-3.0,18.0,-28.0,-2.0,8.0,-18.0,3.0,-37.0,8.0,48.0,-1.0,-17.0,-28.0,20.0,-13.0,6.0,-21.0,-33.0,0.0,-29.0,-6.0,-39.0,12.0,11.0,-32.0,-14.0,-35.0],\"yaxis\":\"y\",\"type\":\"bar\"},{\"hoverinfo\":\"text\",\"hovertext\":[\"CTM #20<br>Continuous Testing Meetup in May @ WeWork Potsdamer Platz<br>Attendees: 91<br>Max Temp: 18.6\\u00b0C\",\"CTM #21<br>Continuous Testing Meetup in June @ WeWork Stralauer Allee<br>Attendees: 102<br>Max Temp: 33.4\\u00b0C\",\"CTM #22<br>Continuous Testing Meetup in August @ WeWork Stralauer Allee<br>Attendees: 105<br>Max Temp: 21.6\\u00b0C\",\"CTM #23<br>Continuous Testing Meetup in September @ Vivy<br>Attendees: 100<br>Max Temp: 20.0\\u00b0C\",\"CTM #24<br>Workshop - Get started with Selenium-based automated tests with OxygenHQ<br>Attendees: 27<br>Max Temp: 22.3\\u00b0C\",\"CTM #25<br>Continuous Testing Meetup in October @ WeWork Stralauer Allee<br>Attendees: 118<br>Max Temp: 16.8\\u00b0C\",\"CTM #26<br>Continuous Testing Meetup @ FlixBus - AI in Test Automation<br>Attendees: 98<br>Max Temp: 9.5\\u00b0C\",\"CTM #27<br>Continuous Testing Meetup in December @ myToys<br>Attendees: 53<br>Max Temp: 6.2\\u00b0C\",\"CTM #28<br>Continuous Testing Meetup in January @ Contentful<br>Attendees: 122<br>Max Temp: 4.9\\u00b0C\",\"CTM #29<br>Continuous Testing Meetup in February @ BITGRIP<br>Attendees: 66<br>Max Temp: 7.2\\u00b0C\",\"CTM #30<br>How to Work at Home and Not Go Insane - Online Meetup & Open Discussion<br>Attendees: 56<br>Max Temp: 10.0\\u00b0C\",\"CTM #31<br>[Webinar] How to Overcome The Missing Appium Functionality with Wim Selles<br>Attendees: 27<br>Max Temp: 5.9\\u00b0C\",\"CTM #32<br>Critical Thinking in Testing and in Life - Online Meetup & Open Discussion<br>Attendees: 46<br>Max Temp: 13.5\\u00b0C\",\"CTM #33<br>How We Automated Testing, Got Rid of QA Engineers, And Survived - Online Meetup<br>Attendees: 62<br>Max Temp: 16.4\\u00b0C\",\"CTM #34<br>Self-Management in The Testing Community - Online Meetup<br>Attendees: 32<br>Max Temp: 15.3\\u00b0C\",\"CTM #35<br>Level Up the Developer Experience using Tests - Online Meetup<br>Attendees: 52<br>Max Temp: 17.8\\u00b0C\",\"CTM #36<br>Arjuna - A Modern Web UI Test Automation Framework - Online Meetup<br>Attendees: 72<br>Max Temp: 15.8\\u00b0C\",\"CTM #37<br>Breakfast & Learn: Lightning Talks at the Continuous Testing Meetup Online<br>Attendees: 40<br>Max Temp: 18.8\\u00b0C\",\"CTM #38<br>Hunting Bugs with Puppeteer and AWS Lambda - Online Meetup<br>Attendees: 55<br>Max Temp: 25.3\\u00b0C\",\"CTM #39<br>PyTest: The Awesome Parts - Online Meetup<br>Attendees: 71<br>Max Temp: 28.0\\u00b0C\",\"CTM #40<br>The Female Champions of Rwanda's Rising Tech Scene - Online Meetup<br>Attendees: 31<br>Max Temp: 20.9\\u00b0C\",\"CTM #41<br>Modern PERFORMANCE testing principles - Online Meetup<br>Attendees: 118<br>Max Temp: 18.2\\u00b0C\",\"CTM #42<br>Setting Your Team Up For Success So Anyone Can Write Tests - Online Meetup<br>Attendees: 66<br>Max Temp: 22.6\\u00b0C\",\"CTM #43<br>Continuous Feedback with Github Actions - Online Meetup<br>Attendees: 61<br>Max Temp: 31.2\\u00b0C\",\"CTM #44<br>Verifying Relationships: Consumer-Driven Contract Tests and Microservices<br>Attendees: 74<br>Max Temp: 30.9\\u00b0C\",\"CTM #45<br>Enhance Mobile User Experience through Performance Testing<br>Attendees: 86<br>Max Temp: 22.4\\u00b0C\",\"CTM #46<br>Automated Testing With JavaScript<br>Attendees: 148<br>Max Temp: 18.3\\u00b0C\",\"CTM #47<br>No Code Apps - Why and how to?<br>Attendees: 46<br>Max Temp: 16.2\\u00b0C\",\"CTM #48<br>Hacktoberfest meets CTM Berlin<br>Attendees: 25<br>Max Temp: 16.0\\u00b0C\",\"CTM #49<br>Assuring or Not Assuring quality?<br>Attendees: 75<br>Max Temp: 19.6\\u00b0C\",\"CTM #50<br>Mentorships for our QA Engineers & Puppeteer Internals<br>Attendees: 45<br>Max Temp: 9.9\\u00b0C\",\"CTM #51<br>Breaking Boundaries Using Charles<br>Attendees: 59<br>Max Temp: 0.5\\u00b0C\",\"CTM #52<br>Test process improvement in an agile environment<br>Attendees: 94<br>Max Temp: 2.0\\u00b0C\",\"CTM #53<br>Selenium + JUnit 5:  The Perfect Match<br>Attendees: 117<br>Max Temp: 3.2\\u00b0C\",\"CTM #54<br>Speeding up your test execution in a fast-paced world<br>Attendees: 78<br>Max Temp: 15.6\\u00b0C\",\"CTM #55<br>Beginning Test Automation: Part 1 of 3<br>Attendees: 25<br>Max Temp: 7.4\\u00b0C\",\"CTM #56<br>Beginning Test Automation: Part 2 of 3<br>Attendees: 20<br>Max Temp: 19.3\\u00b0C\",\"CTM #57<br>Beginning Test Automation: Part 3 of 3<br>Attendees: 20<br>Max Temp: 6.4\\u00b0C\",\"CTM #58<br>\\u201cIt works on my browser!\\u201d is the new \\u201cIt works on my machine!\\u201d<br>Attendees: 59<br>Max Temp: 9.3\\u00b0C\",\"CTM #59<br>Integration Testing  with Cypress<br>Attendees: 80<br>Max Temp: 12.0\\u00b0C\",\"CTM #60<br>Career switch & Open Source<br>Attendees: 34<br>Max Temp: 15.3\\u00b0C\",\"CTM #61<br>Ready for Test - a Symptom of a Poor Quality Culture<br>Attendees: 60<br>Max Temp: 20.7\\u00b0C\",\"CTM #62<br>Shifting Accessibility Testing to the Left<br>Attendees: 70<br>Max Temp: 24.6\\u00b0C\",\"CTM #63<br>Automation in Testing - Simplify Your Daily Testing Business<br>Attendees: 44<br>Max Temp: 21.6\\u00b0C\",\"CTM #64<br>Growing A Culture of Quality<br>Attendees: 65<br>Max Temp: 15.0\\u00b0C\",\"CTM #65<br>How to Bring Accessibility into Your Teams<br>Attendees: 25<br>Max Temp: 8.5\\u00b0C\",\"CTM #66<br>The Screenplay Pattern: Better Interactions for Better Automation<br>Attendees: 70<br>Max Temp: 6.5\\u00b0C\",\"CTM #67<br>Building & Testing a Web Application<br>Attendees: 110<br>Max Temp: 3.8\\u00b0C\",\"CTM #68<br>The Road to QA<br>Attendees: 61<br>Max Temp: 8.8\\u00b0C\",\"CTM #69<br>Autonomous testing: Empower your testing strategies<br>Attendees: 45<br>Max Temp: 29.4\\u00b0C\",\"CTM #70<br>Shifting Quality To App-first @ La Redoute<br>Attendees: 34<br>Max Temp: 34.2\\u00b0C\",\"CTM #71<br>Clash of the Titans: Cypress vs Playwright<br>Attendees: 82<br>Max Temp: 26.1\\u00b0C\",\"CTM #72<br>Testee: real examples and best practice for e2e testing<br>Attendees: 49<br>Max Temp: 22.4\\u00b0C\",\"CTM #73<br>How to Log a Bug<br>Attendees: 68<br>Max Temp: 18.6\\u00b0C\",\"CTM #74<br>Test in the Cloud for Free - Run Docker Selenium in Heroku and Google Cloud Run<br>Attendees: 41<br>Max Temp: 5.7\\u00b0C\",\"CTM #75<br>I ship CSS as soon as the tests pass. (I\\u2019m not crazy)<br>Attendees: 29<br>Max Temp: 2.1\\u00b0C\",\"CTM #76<br>Selenide: UI tests in java & 10 bad advice on team design to decrease quality<br>Attendees: 62<br>Max Temp: 1.2\\u00b0C\",\"CTM #77<br>The long road to remove the flakiness from the Haura Console E2E tests<br>Attendees: 33<br>Max Temp: 8.2\\u00b0C\",\"CTM #78<br>Moving Cheese: The Art of Persuasion for Testers<br>Attendees: 56<br>Max Temp: 15.4\\u00b0C\",\"CTM #79<br>Do customers define quality?<br>Attendees: 23<br>Max Temp: 11.2\\u00b0C\",\"CTM #80<br>Every Engineer is a Quality Engineer - Our Android automation story<br>Attendees: 74<br>Max Temp: 10.4\\u00b0C\",\"CTM #81<br>How to test API with Cypress<br>Attendees: 73<br>Max Temp: 15.1\\u00b0C\",\"CTM #82<br>How to Test Easier with GoogleChrome DevTools & Sauce Labs<br>Attendees: 30<br>Max Temp: 25.8\\u00b0C\",\"CTM #83<br>What the Fuzz? An introduction to Fuzz Testing<br>Attendees: 48<br>Max Temp: 28.2\\u00b0C\",\"CTM #84<br>Talk #1: Zero Line Testsuite & Talk #2: e-prescription Testsuite<br>Attendees: 27<br>Max Temp: 22.9\\u00b0C\"],\"line\":{\"color\":\"rgb(255,255,255)\"},\"mode\":\"text\",\"showlegend\":false,\"x\":[20,21,22,23,24,25,26,27,28,29,30,31,32,33,34,35,36,37,38,39,40,41,42,43,44,45,46,47,48,49,50,51,52,53,54,55,56,57,58,59,60,61,62,63,64,65,66,67,68,69,70,71,72,73,74,75,76,77,78,79,80,81,82,83,84],\"y\":[91,102,105,100,27,118,98,53,122,66,56,27,46,62,32,52,72,40,55,71,31,118,66,61,74,86,148,46,25,75,45,59,94,117,78,25,20,20,59,80,34,60,70,44,65,25,70,110,61,45,34,82,49,68,41,29,62,33,56,23,74,73,30,48,27],\"yaxis\":\"y2\",\"type\":\"scatter\"}],                        {\"template\":{\"data\":{\"histogram2dcontour\":[{\"type\":\"histogram2dcontour\",\"colorbar\":{\"outlinewidth\":0,\"ticks\":\"\"},\"colorscale\":[[0.0,\"#0d0887\"],[0.1111111111111111,\"#46039f\"],[0.2222222222222222,\"#7201a8\"],[0.3333333333333333,\"#9c179e\"],[0.4444444444444444,\"#bd3786\"],[0.5555555555555556,\"#d8576b\"],[0.6666666666666666,\"#ed7953\"],[0.7777777777777778,\"#fb9f3a\"],[0.8888888888888888,\"#fdca26\"],[1.0,\"#f0f921\"]]}],\"choropleth\":[{\"type\":\"choropleth\",\"colorbar\":{\"outlinewidth\":0,\"ticks\":\"\"}}],\"histogram2d\":[{\"type\":\"histogram2d\",\"colorbar\":{\"outlinewidth\":0,\"ticks\":\"\"},\"colorscale\":[[0.0,\"#0d0887\"],[0.1111111111111111,\"#46039f\"],[0.2222222222222222,\"#7201a8\"],[0.3333333333333333,\"#9c179e\"],[0.4444444444444444,\"#bd3786\"],[0.5555555555555556,\"#d8576b\"],[0.6666666666666666,\"#ed7953\"],[0.7777777777777778,\"#fb9f3a\"],[0.8888888888888888,\"#fdca26\"],[1.0,\"#f0f921\"]]}],\"heatmap\":[{\"type\":\"heatmap\",\"colorbar\":{\"outlinewidth\":0,\"ticks\":\"\"},\"colorscale\":[[0.0,\"#0d0887\"],[0.1111111111111111,\"#46039f\"],[0.2222222222222222,\"#7201a8\"],[0.3333333333333333,\"#9c179e\"],[0.4444444444444444,\"#bd3786\"],[0.5555555555555556,\"#d8576b\"],[0.6666666666666666,\"#ed7953\"],[0.7777777777777778,\"#fb9f3a\"],[0.8888888888888888,\"#fdca26\"],[1.0,\"#f0f921\"]]}],\"heatmapgl\":[{\"type\":\"heatmapgl\",\"colorbar\":{\"outlinewidth\":0,\"ticks\":\"\"},\"colorscale\":[[0.0,\"#0d0887\"],[0.1111111111111111,\"#46039f\"],[0.2222222222222222,\"#7201a8\"],[0.3333333333333333,\"#9c179e\"],[0.4444444444444444,\"#bd3786\"],[0.5555555555555556,\"#d8576b\"],[0.6666666666666666,\"#ed7953\"],[0.7777777777777778,\"#fb9f3a\"],[0.8888888888888888,\"#fdca26\"],[1.0,\"#f0f921\"]]}],\"contourcarpet\":[{\"type\":\"contourcarpet\",\"colorbar\":{\"outlinewidth\":0,\"ticks\":\"\"}}],\"contour\":[{\"type\":\"contour\",\"colorbar\":{\"outlinewidth\":0,\"ticks\":\"\"},\"colorscale\":[[0.0,\"#0d0887\"],[0.1111111111111111,\"#46039f\"],[0.2222222222222222,\"#7201a8\"],[0.3333333333333333,\"#9c179e\"],[0.4444444444444444,\"#bd3786\"],[0.5555555555555556,\"#d8576b\"],[0.6666666666666666,\"#ed7953\"],[0.7777777777777778,\"#fb9f3a\"],[0.8888888888888888,\"#fdca26\"],[1.0,\"#f0f921\"]]}],\"surface\":[{\"type\":\"surface\",\"colorbar\":{\"outlinewidth\":0,\"ticks\":\"\"},\"colorscale\":[[0.0,\"#0d0887\"],[0.1111111111111111,\"#46039f\"],[0.2222222222222222,\"#7201a8\"],[0.3333333333333333,\"#9c179e\"],[0.4444444444444444,\"#bd3786\"],[0.5555555555555556,\"#d8576b\"],[0.6666666666666666,\"#ed7953\"],[0.7777777777777778,\"#fb9f3a\"],[0.8888888888888888,\"#fdca26\"],[1.0,\"#f0f921\"]]}],\"mesh3d\":[{\"type\":\"mesh3d\",\"colorbar\":{\"outlinewidth\":0,\"ticks\":\"\"}}],\"scatter\":[{\"fillpattern\":{\"fillmode\":\"overlay\",\"size\":10,\"solidity\":0.2},\"type\":\"scatter\"}],\"parcoords\":[{\"type\":\"parcoords\",\"line\":{\"colorbar\":{\"outlinewidth\":0,\"ticks\":\"\"}}}],\"scatterpolargl\":[{\"type\":\"scatterpolargl\",\"marker\":{\"colorbar\":{\"outlinewidth\":0,\"ticks\":\"\"}}}],\"bar\":[{\"error_x\":{\"color\":\"#2a3f5f\"},\"error_y\":{\"color\":\"#2a3f5f\"},\"marker\":{\"line\":{\"color\":\"#E5ECF6\",\"width\":0.5},\"pattern\":{\"fillmode\":\"overlay\",\"size\":10,\"solidity\":0.2}},\"type\":\"bar\"}],\"scattergeo\":[{\"type\":\"scattergeo\",\"marker\":{\"colorbar\":{\"outlinewidth\":0,\"ticks\":\"\"}}}],\"scatterpolar\":[{\"type\":\"scatterpolar\",\"marker\":{\"colorbar\":{\"outlinewidth\":0,\"ticks\":\"\"}}}],\"histogram\":[{\"marker\":{\"pattern\":{\"fillmode\":\"overlay\",\"size\":10,\"solidity\":0.2}},\"type\":\"histogram\"}],\"scattergl\":[{\"type\":\"scattergl\",\"marker\":{\"colorbar\":{\"outlinewidth\":0,\"ticks\":\"\"}}}],\"scatter3d\":[{\"type\":\"scatter3d\",\"line\":{\"colorbar\":{\"outlinewidth\":0,\"ticks\":\"\"}},\"marker\":{\"colorbar\":{\"outlinewidth\":0,\"ticks\":\"\"}}}],\"scattermapbox\":[{\"type\":\"scattermapbox\",\"marker\":{\"colorbar\":{\"outlinewidth\":0,\"ticks\":\"\"}}}],\"scatterternary\":[{\"type\":\"scatterternary\",\"marker\":{\"colorbar\":{\"outlinewidth\":0,\"ticks\":\"\"}}}],\"scattercarpet\":[{\"type\":\"scattercarpet\",\"marker\":{\"colorbar\":{\"outlinewidth\":0,\"ticks\":\"\"}}}],\"carpet\":[{\"aaxis\":{\"endlinecolor\":\"#2a3f5f\",\"gridcolor\":\"white\",\"linecolor\":\"white\",\"minorgridcolor\":\"white\",\"startlinecolor\":\"#2a3f5f\"},\"baxis\":{\"endlinecolor\":\"#2a3f5f\",\"gridcolor\":\"white\",\"linecolor\":\"white\",\"minorgridcolor\":\"white\",\"startlinecolor\":\"#2a3f5f\"},\"type\":\"carpet\"}],\"table\":[{\"cells\":{\"fill\":{\"color\":\"#EBF0F8\"},\"line\":{\"color\":\"white\"}},\"header\":{\"fill\":{\"color\":\"#C8D4E3\"},\"line\":{\"color\":\"white\"}},\"type\":\"table\"}],\"barpolar\":[{\"marker\":{\"line\":{\"color\":\"#E5ECF6\",\"width\":0.5},\"pattern\":{\"fillmode\":\"overlay\",\"size\":10,\"solidity\":0.2}},\"type\":\"barpolar\"}],\"pie\":[{\"automargin\":true,\"type\":\"pie\"}]},\"layout\":{\"autotypenumbers\":\"strict\",\"colorway\":[\"#636efa\",\"#EF553B\",\"#00cc96\",\"#ab63fa\",\"#FFA15A\",\"#19d3f3\",\"#FF6692\",\"#B6E880\",\"#FF97FF\",\"#FECB52\"],\"font\":{\"color\":\"#2a3f5f\"},\"hovermode\":\"closest\",\"hoverlabel\":{\"align\":\"left\"},\"paper_bgcolor\":\"white\",\"plot_bgcolor\":\"#E5ECF6\",\"polar\":{\"bgcolor\":\"#E5ECF6\",\"angularaxis\":{\"gridcolor\":\"white\",\"linecolor\":\"white\",\"ticks\":\"\"},\"radialaxis\":{\"gridcolor\":\"white\",\"linecolor\":\"white\",\"ticks\":\"\"}},\"ternary\":{\"bgcolor\":\"#E5ECF6\",\"aaxis\":{\"gridcolor\":\"white\",\"linecolor\":\"white\",\"ticks\":\"\"},\"baxis\":{\"gridcolor\":\"white\",\"linecolor\":\"white\",\"ticks\":\"\"},\"caxis\":{\"gridcolor\":\"white\",\"linecolor\":\"white\",\"ticks\":\"\"}},\"coloraxis\":{\"colorbar\":{\"outlinewidth\":0,\"ticks\":\"\"}},\"colorscale\":{\"sequential\":[[0.0,\"#0d0887\"],[0.1111111111111111,\"#46039f\"],[0.2222222222222222,\"#7201a8\"],[0.3333333333333333,\"#9c179e\"],[0.4444444444444444,\"#bd3786\"],[0.5555555555555556,\"#d8576b\"],[0.6666666666666666,\"#ed7953\"],[0.7777777777777778,\"#fb9f3a\"],[0.8888888888888888,\"#fdca26\"],[1.0,\"#f0f921\"]],\"sequentialminus\":[[0.0,\"#0d0887\"],[0.1111111111111111,\"#46039f\"],[0.2222222222222222,\"#7201a8\"],[0.3333333333333333,\"#9c179e\"],[0.4444444444444444,\"#bd3786\"],[0.5555555555555556,\"#d8576b\"],[0.6666666666666666,\"#ed7953\"],[0.7777777777777778,\"#fb9f3a\"],[0.8888888888888888,\"#fdca26\"],[1.0,\"#f0f921\"]],\"diverging\":[[0,\"#8e0152\"],[0.1,\"#c51b7d\"],[0.2,\"#de77ae\"],[0.3,\"#f1b6da\"],[0.4,\"#fde0ef\"],[0.5,\"#f7f7f7\"],[0.6,\"#e6f5d0\"],[0.7,\"#b8e186\"],[0.8,\"#7fbc41\"],[0.9,\"#4d9221\"],[1,\"#276419\"]]},\"xaxis\":{\"gridcolor\":\"white\",\"linecolor\":\"white\",\"ticks\":\"\",\"title\":{\"standoff\":15},\"zerolinecolor\":\"white\",\"automargin\":true,\"zerolinewidth\":2},\"yaxis\":{\"gridcolor\":\"white\",\"linecolor\":\"white\",\"ticks\":\"\",\"title\":{\"standoff\":15},\"zerolinecolor\":\"white\",\"automargin\":true,\"zerolinewidth\":2},\"scene\":{\"xaxis\":{\"backgroundcolor\":\"#E5ECF6\",\"gridcolor\":\"white\",\"linecolor\":\"white\",\"showbackground\":true,\"ticks\":\"\",\"zerolinecolor\":\"white\",\"gridwidth\":2},\"yaxis\":{\"backgroundcolor\":\"#E5ECF6\",\"gridcolor\":\"white\",\"linecolor\":\"white\",\"showbackground\":true,\"ticks\":\"\",\"zerolinecolor\":\"white\",\"gridwidth\":2},\"zaxis\":{\"backgroundcolor\":\"#E5ECF6\",\"gridcolor\":\"white\",\"linecolor\":\"white\",\"showbackground\":true,\"ticks\":\"\",\"zerolinecolor\":\"white\",\"gridwidth\":2}},\"shapedefaults\":{\"line\":{\"color\":\"#2a3f5f\"}},\"annotationdefaults\":{\"arrowcolor\":\"#2a3f5f\",\"arrowhead\":0,\"arrowwidth\":1},\"geo\":{\"bgcolor\":\"white\",\"landcolor\":\"#E5ECF6\",\"subunitcolor\":\"white\",\"showland\":true,\"showlakes\":true,\"lakecolor\":\"white\"},\"title\":{\"x\":0.05},\"mapbox\":{\"style\":\"light\"}}},\"xaxis\":{\"showticklabels\":false},\"yaxis\":{\"title\":{\"text\":\"Attendees Compared to Average\"},\"showgrid\":false,\"zeroline\":false},\"yaxis2\":{\"title\":{\"text\":\"Total Attendees\"},\"showgrid\":false,\"zeroline\":false,\"overlaying\":\"y\",\"side\":\"right\"},\"font\":{\"color\":\"rgb(255,255,255)\"},\"title\":{\"text\":\"Attendees Compared to Average Over Time\"},\"plot_bgcolor\":\"rgb(40,40,40)\",\"paper_bgcolor\":\"rgb(40,40,40)\",\"showlegend\":false},                        {\"responsive\": true}                    ).then(function(){\n",
       "                            \n",
       "var gd = document.getElementById('0090c5f3-ad14-440f-bedf-8a5afaed225d');\n",
       "var x = new MutationObserver(function (mutations, observer) {{\n",
       "        var display = window.getComputedStyle(gd).display;\n",
       "        if (!display || display === 'none') {{\n",
       "            console.log([gd, 'removed!']);\n",
       "            Plotly.purge(gd);\n",
       "            observer.disconnect();\n",
       "        }}\n",
       "}});\n",
       "\n",
       "// Listen for the removal of the full notebook cells\n",
       "var notebookContainer = gd.closest('#notebook-container');\n",
       "if (notebookContainer) {{\n",
       "    x.observe(notebookContainer, {childList: true});\n",
       "}}\n",
       "\n",
       "// Listen for the clearing of the current output cell\n",
       "var outputEl = gd.closest('.output');\n",
       "if (outputEl) {{\n",
       "    x.observe(outputEl, {childList: true});\n",
       "}}\n",
       "\n",
       "                        })                };                });            </script>        </div>"
      ]
     },
     "metadata": {},
     "output_type": "display_data"
    },
    {
     "data": {
      "text/plain": [
       "'../plots/event_analysis_plot.html'"
      ]
     },
     "execution_count": 6,
     "metadata": {},
     "output_type": "execute_result"
    }
   ],
   "source": [
    "# Load and process event data\n",
    "event_df = pd.read_json(os.path.join(DATA_PATH, 'event_data.json'))\n",
    "\n",
    "# Convert 'date' column to datetime format\n",
    "event_df['date'] = pd.to_datetime(event_df['date'], format='%Y-%m-%d')\n",
    "\n",
    "# Filter out data from before 2019\n",
    "event_df = event_df[event_df['date'].dt.year >= 2019]\n",
    "\n",
    "# Sort data chronologically\n",
    "event_df.sort_values('date', inplace=True)\n",
    "\n",
    "# Calculate average number of attendees and their difference from the average\n",
    "average_attendees = event_df['attendees'].mean().round(0)\n",
    "event_df['attendee_difference'] = event_df['attendees'] - average_attendees\n",
    "\n",
    "# Load existing weather data\n",
    "existing_weather_data = load_json_from_file(WEATHER_DATA_FILE)\n",
    "\n",
    "# Collect weather data\n",
    "collect_weather_data(event_df, existing_weather_data)\n",
    "\n",
    "# Load updated weather data\n",
    "weather_df = pd.DataFrame(load_json_from_file(WEATHER_DATA_FILE))\n",
    "\n",
    "# Merge event data with weather data\n",
    "event_df = pd.merge(event_df, weather_df, on='id', how='left')\n",
    "\n",
    "# Normalize temperature values to a 0-1 scale\n",
    "min_temp = event_df['max_temp'].min()\n",
    "max_temp = event_df['max_temp'].max()\n",
    "event_df['normalized_temp'] = (event_df['max_temp'] - min_temp) / (max_temp - min_temp)\n",
    "\n",
    "# Create custom hover text\n",
    "event_df['hover_text'] = 'CTM #' + event_df['id'].astype(str) + '<br>' + event_df['title'] + '<br>' + 'Attendees: ' + event_df['attendees'].astype(str)\n",
    "\n",
    "# If max temperature data is available, add it to the hover text\n",
    "event_df.loc[event_df['max_temp'].notnull(), 'hover_text'] += '<br>' + 'Max Temp: ' + event_df['max_temp'].astype(str) + '°C'\n",
    "\n",
    "# Create the plot\n",
    "fig = go.Figure()\n",
    "\n",
    "fig.add_trace(go.Bar(x=event_df['id'], y=event_df['attendee_difference'], hovertext=event_df['hover_text'], hoverinfo='text',\n",
    "                     marker=dict(color=event_df['normalized_temp'], colorscale='RdBu_r', opacity=0.6),  # Using reversed 'RdBu' color scale and some transparency\n",
    "                     marker_line_width=0,  # No borders around bars\n",
    "                     yaxis='y1'))\n",
    "\n",
    "fig.add_trace(go.Scatter(x=event_df['id'], y=event_df['attendees'], hovertext=event_df['hover_text'], hoverinfo='text',\n",
    "                         mode='text',\n",
    "                         line=dict(color='rgb(255,255,255)'),\n",
    "                         showlegend=False,\n",
    "                         yaxis='y2'))\n",
    "\n",
    "# Configure plot layout\n",
    "fig.update_layout(xaxis=dict(showticklabels=False),\n",
    "                  yaxis1=dict(title='Attendees Compared to Average', showgrid=False, zeroline=False),\n",
    "                  yaxis2=dict(title='Total Attendees', showgrid=False, zeroline=False, overlaying='y', side='right'),\n",
    "                  plot_bgcolor='rgb(40,40,40)', \n",
    "                  paper_bgcolor='rgb(40,40,40)', \n",
    "                  font=dict(color='rgb(255,255,255)'),\n",
    "                  title_text='Attendees Compared to Average Over Time',\n",
    "                  showlegend=False)\n",
    "\n",
    "# Display the figure and save it as HTML\n",
    "fig.show()\n",
    "pyo.plot(fig, filename=os.path.join(PLOTS_PATH, 'event_analysis_plot.html'))"
   ]
  }
 ],
 "metadata": {
  "kernelspec": {
   "display_name": "Python 3 (ipykernel)",
   "language": "python",
   "name": "python3"
  },
  "language_info": {
   "codemirror_mode": {
    "name": "ipython",
    "version": 3
   },
   "file_extension": ".py",
   "mimetype": "text/x-python",
   "name": "python",
   "nbconvert_exporter": "python",
   "pygments_lexer": "ipython3",
   "version": "3.11.4"
  },
  "orig_nbformat": 4
 },
 "nbformat": 4,
 "nbformat_minor": 2
}
